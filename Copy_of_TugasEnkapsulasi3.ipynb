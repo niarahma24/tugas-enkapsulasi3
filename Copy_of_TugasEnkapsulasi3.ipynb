{
  "nbformat": 4,
  "nbformat_minor": 0,
  "metadata": {
    "colab": {
      "provenance": [],
      "include_colab_link": true
    },
    "kernelspec": {
      "name": "python3",
      "display_name": "Python 3"
    },
    "language_info": {
      "name": "python"
    }
  },
  "cells": [
    {
      "cell_type": "markdown",
      "metadata": {
        "id": "view-in-github",
        "colab_type": "text"
      },
      "source": [
        "<a href=\"https://colab.research.google.com/github/niarahma24/tugas-enkapsulasi3/blob/main/Copy_of_TugasEnkapsulasi3.ipynb\" target=\"_parent\"><img src=\"https://colab.research.google.com/assets/colab-badge.svg\" alt=\"Open In Colab\"/></a>"
      ]
    },
    {
      "cell_type": "markdown",
      "source": [
        "Buatlah kelas RekeningBank dengan atribut berikut:\n",
        "\n",
        "*   nama_pemilik (private)\n",
        "*   saldo (private)\n",
        "\n",
        "Berikan metode berikut:\n",
        "\n",
        "*   __init__: Menginisialisasi saldo dan nama_pemilik.\n",
        "*   set_saldo: Mengubah nilai saldo.\n",
        "*   get_saldo: Mengembalikan nilai saldo.\n",
        "*   set_nama_pemilik: Mengubah nama pemilik.\n",
        "*   get_nama_pemilik: Mengembalikan nama pemilik.\n",
        "\n",
        "\n",
        "\n",
        "\n",
        "\n",
        "\n",
        "\n",
        "\n"
      ],
      "metadata": {
        "id": "PktiI90eS6Ee"
      }
    },
    {
      "cell_type": "code",
      "source": [
        "class RekeningBank:\n",
        "    def __init__(self, nama_pemilik, saldo, setor, tarik):\n",
        "        self.__nama_pemilik = nama_pemilik\n",
        "        self.__saldo = saldo\n",
        "        self.__setor = setor\n",
        "        self.__tarik = tarik\n",
        "\n",
        "    def set_saldo(self, saldo):\n",
        "        if saldo > 6000000:\n",
        "          self.__saldo = 5000000\n",
        "        elif saldo < 6000000:\n",
        "           self.__saldo = 4000000\n",
        "        else:\n",
        "          self.__saldo = saldo\n",
        "    def get_saldo(self):\n",
        "        return self.__saldo\n",
        "\n",
        "    def set_nama_pemilik(self, nama_pemilik):\n",
        "        self.__nama_pemilik = nama_pemilik\n",
        "    def get_nama_pemilik(self):\n",
        "        return self.__nama_pemilik\n",
        "\n",
        "    def set_setor(self,setor):\n",
        "      self.__setor = setor\n",
        "    def get_setor(self):\n",
        "      return self.__setor\n",
        "\n",
        "\n",
        "    def set_tarik(self,tarik):\n",
        "      self.__tarik = tarik\n",
        "    def get_tarik(self):\n",
        "      return self.__tarik\n",
        "\n",
        "    def get_setormoney(self):\n",
        "      return print(\"berhasil saldo anda sekarang Rp.\" , self.__saldo + self.__setor)\n",
        "\n",
        "    def set_tarikmoney(self):\n",
        "      if self.__saldo > self.__tarik :\n",
        "        print(\"berhasil sisa saldo anda Rp.\", self.__saldo - self.__tarik)\n",
        "      else:\n",
        "        print(\"saldo tidak cukup\")"
      ],
      "metadata": {
        "id": "Pyj-mkyciVfk"
      },
      "execution_count": 1,
      "outputs": []
    },
    {
      "cell_type": "code",
      "source": [
        "BRI = RekeningBank(\"nia\",240000000,9000000,6000000)\n",
        "BRI.get_setormoney()\n",
        "BRI.set_tarikmoney()\n",
        "\n",
        "BRI.set_setor(300000)\n",
        "BRI.set_saldo(200000)\n",
        "BRI.set_tarik(1000000)\n",
        "\n",
        "BRI.get_setormoney()\n",
        "BRI.set_tarikmoney()"
      ],
      "metadata": {
        "id": "aOwy6rfdSga2",
        "colab": {
          "base_uri": "https://localhost:8080/"
        },
        "outputId": "5affc7bd-a980-4b71-a086-6a32e4a0967d"
      },
      "execution_count": 3,
      "outputs": [
        {
          "output_type": "stream",
          "name": "stdout",
          "text": [
            "berhasil saldo anda sekarang Rp. 249000000\n",
            "berhasil sisa saldo anda Rp. 234000000\n",
            "berhasil saldo anda sekarang Rp. 4300000\n",
            "berhasil sisa saldo anda Rp. 3000000\n"
          ]
        }
      ]
    }
  ]
}